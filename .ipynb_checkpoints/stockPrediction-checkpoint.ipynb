{
 "cells": [
  {
   "cell_type": "code",
   "execution_count": 2,
   "id": "ae2b0764",
   "metadata": {},
   "outputs": [],
   "source": [
    "import pandas as pd\n",
    "import numpy as np\n",
    "import matplotlib.pyplot as plt\n",
    "from sklearn import metrics"
   ]
  },
  {
   "cell_type": "code",
   "execution_count": 3,
   "id": "c11561c1",
   "metadata": {},
   "outputs": [
    {
     "data": {
      "text/html": [
       "<div>\n",
       "<style scoped>\n",
       "    .dataframe tbody tr th:only-of-type {\n",
       "        vertical-align: middle;\n",
       "    }\n",
       "\n",
       "    .dataframe tbody tr th {\n",
       "        vertical-align: top;\n",
       "    }\n",
       "\n",
       "    .dataframe thead th {\n",
       "        text-align: right;\n",
       "    }\n",
       "</style>\n",
       "<table border=\"1\" class=\"dataframe\">\n",
       "  <thead>\n",
       "    <tr style=\"text-align: right;\">\n",
       "      <th></th>\n",
       "      <th>Date</th>\n",
       "      <th>Open</th>\n",
       "      <th>High</th>\n",
       "      <th>Low</th>\n",
       "      <th>Close</th>\n",
       "      <th>Volume</th>\n",
       "      <th>Adj Close</th>\n",
       "    </tr>\n",
       "  </thead>\n",
       "  <tbody>\n",
       "    <tr>\n",
       "      <th>0</th>\n",
       "      <td>29-06-2010</td>\n",
       "      <td>19.000000</td>\n",
       "      <td>25.00</td>\n",
       "      <td>17.540001</td>\n",
       "      <td>23.889999</td>\n",
       "      <td>18766300</td>\n",
       "      <td>23.889999</td>\n",
       "    </tr>\n",
       "    <tr>\n",
       "      <th>1</th>\n",
       "      <td>30-06-2010</td>\n",
       "      <td>25.790001</td>\n",
       "      <td>30.42</td>\n",
       "      <td>23.299999</td>\n",
       "      <td>23.830000</td>\n",
       "      <td>17187100</td>\n",
       "      <td>23.830000</td>\n",
       "    </tr>\n",
       "    <tr>\n",
       "      <th>2</th>\n",
       "      <td>01-07-2010</td>\n",
       "      <td>25.000000</td>\n",
       "      <td>25.92</td>\n",
       "      <td>20.270000</td>\n",
       "      <td>21.959999</td>\n",
       "      <td>8218800</td>\n",
       "      <td>21.959999</td>\n",
       "    </tr>\n",
       "    <tr>\n",
       "      <th>3</th>\n",
       "      <td>02-07-2010</td>\n",
       "      <td>23.000000</td>\n",
       "      <td>23.10</td>\n",
       "      <td>18.709999</td>\n",
       "      <td>19.200001</td>\n",
       "      <td>5139800</td>\n",
       "      <td>19.200001</td>\n",
       "    </tr>\n",
       "    <tr>\n",
       "      <th>4</th>\n",
       "      <td>06-07-2010</td>\n",
       "      <td>20.000000</td>\n",
       "      <td>20.00</td>\n",
       "      <td>15.830000</td>\n",
       "      <td>16.110001</td>\n",
       "      <td>6866900</td>\n",
       "      <td>16.110001</td>\n",
       "    </tr>\n",
       "  </tbody>\n",
       "</table>\n",
       "</div>"
      ],
      "text/plain": [
       "         Date       Open   High        Low      Close    Volume  Adj Close\n",
       "0  29-06-2010  19.000000  25.00  17.540001  23.889999  18766300  23.889999\n",
       "1  30-06-2010  25.790001  30.42  23.299999  23.830000  17187100  23.830000\n",
       "2  01-07-2010  25.000000  25.92  20.270000  21.959999   8218800  21.959999\n",
       "3  02-07-2010  23.000000  23.10  18.709999  19.200001   5139800  19.200001\n",
       "4  06-07-2010  20.000000  20.00  15.830000  16.110001   6866900  16.110001"
      ]
     },
     "execution_count": 3,
     "metadata": {},
     "output_type": "execute_result"
    }
   ],
   "source": [
    "df = pd.read_csv('Tesla.csv')\n",
    "df.head()"
   ]
  },
  {
   "cell_type": "code",
   "execution_count": 4,
   "id": "7d479f03",
   "metadata": {},
   "outputs": [
    {
     "data": {
      "text/plain": [
       "(1692, 7)"
      ]
     },
     "execution_count": 4,
     "metadata": {},
     "output_type": "execute_result"
    }
   ],
   "source": [
    "df.shape"
   ]
  },
  {
   "cell_type": "code",
   "execution_count": 5,
   "id": "d1cbf5d1",
   "metadata": {},
   "outputs": [
    {
     "data": {
      "text/html": [
       "<div>\n",
       "<style scoped>\n",
       "    .dataframe tbody tr th:only-of-type {\n",
       "        vertical-align: middle;\n",
       "    }\n",
       "\n",
       "    .dataframe tbody tr th {\n",
       "        vertical-align: top;\n",
       "    }\n",
       "\n",
       "    .dataframe thead th {\n",
       "        text-align: right;\n",
       "    }\n",
       "</style>\n",
       "<table border=\"1\" class=\"dataframe\">\n",
       "  <thead>\n",
       "    <tr style=\"text-align: right;\">\n",
       "      <th></th>\n",
       "      <th>Date</th>\n",
       "      <th>Open</th>\n",
       "      <th>High</th>\n",
       "      <th>Low</th>\n",
       "      <th>Close</th>\n",
       "      <th>Volume</th>\n",
       "    </tr>\n",
       "  </thead>\n",
       "  <tbody>\n",
       "    <tr>\n",
       "      <th>0</th>\n",
       "      <td>29-06-2010</td>\n",
       "      <td>19.000000</td>\n",
       "      <td>25.00</td>\n",
       "      <td>17.540001</td>\n",
       "      <td>23.889999</td>\n",
       "      <td>18766300</td>\n",
       "    </tr>\n",
       "    <tr>\n",
       "      <th>1</th>\n",
       "      <td>30-06-2010</td>\n",
       "      <td>25.790001</td>\n",
       "      <td>30.42</td>\n",
       "      <td>23.299999</td>\n",
       "      <td>23.830000</td>\n",
       "      <td>17187100</td>\n",
       "    </tr>\n",
       "    <tr>\n",
       "      <th>2</th>\n",
       "      <td>01-07-2010</td>\n",
       "      <td>25.000000</td>\n",
       "      <td>25.92</td>\n",
       "      <td>20.270000</td>\n",
       "      <td>21.959999</td>\n",
       "      <td>8218800</td>\n",
       "    </tr>\n",
       "    <tr>\n",
       "      <th>3</th>\n",
       "      <td>02-07-2010</td>\n",
       "      <td>23.000000</td>\n",
       "      <td>23.10</td>\n",
       "      <td>18.709999</td>\n",
       "      <td>19.200001</td>\n",
       "      <td>5139800</td>\n",
       "    </tr>\n",
       "    <tr>\n",
       "      <th>4</th>\n",
       "      <td>06-07-2010</td>\n",
       "      <td>20.000000</td>\n",
       "      <td>20.00</td>\n",
       "      <td>15.830000</td>\n",
       "      <td>16.110001</td>\n",
       "      <td>6866900</td>\n",
       "    </tr>\n",
       "  </tbody>\n",
       "</table>\n",
       "</div>"
      ],
      "text/plain": [
       "         Date       Open   High        Low      Close    Volume\n",
       "0  29-06-2010  19.000000  25.00  17.540001  23.889999  18766300\n",
       "1  30-06-2010  25.790001  30.42  23.299999  23.830000  17187100\n",
       "2  01-07-2010  25.000000  25.92  20.270000  21.959999   8218800\n",
       "3  02-07-2010  23.000000  23.10  18.709999  19.200001   5139800\n",
       "4  06-07-2010  20.000000  20.00  15.830000  16.110001   6866900"
      ]
     },
     "execution_count": 5,
     "metadata": {},
     "output_type": "execute_result"
    }
   ],
   "source": [
    "df.drop('Adj Close', axis=1, inplace=True)\n",
    "df.head()"
   ]
  },
  {
   "cell_type": "code",
   "execution_count": 6,
   "id": "8837810c",
   "metadata": {},
   "outputs": [
    {
     "data": {
      "text/plain": [
       "Date      0\n",
       "Open      0\n",
       "High      0\n",
       "Low       0\n",
       "Close     0\n",
       "Volume    0\n",
       "dtype: int64"
      ]
     },
     "execution_count": 6,
     "metadata": {},
     "output_type": "execute_result"
    }
   ],
   "source": [
    "df.isnull().sum()"
   ]
  },
  {
   "cell_type": "code",
   "execution_count": 7,
   "id": "dcb0cda3",
   "metadata": {},
   "outputs": [
    {
     "data": {
      "text/plain": [
       "Date      False\n",
       "Open      False\n",
       "High      False\n",
       "Low       False\n",
       "Close     False\n",
       "Volume    False\n",
       "dtype: bool"
      ]
     },
     "execution_count": 7,
     "metadata": {},
     "output_type": "execute_result"
    }
   ],
   "source": [
    "df.isna().any()"
   ]
  },
  {
   "cell_type": "code",
   "execution_count": 8,
   "id": "b57e2062",
   "metadata": {},
   "outputs": [
    {
     "name": "stdout",
     "output_type": "stream",
     "text": [
      "<class 'pandas.core.frame.DataFrame'>\n",
      "RangeIndex: 1692 entries, 0 to 1691\n",
      "Data columns (total 6 columns):\n",
      " #   Column  Non-Null Count  Dtype  \n",
      "---  ------  --------------  -----  \n",
      " 0   Date    1692 non-null   object \n",
      " 1   Open    1692 non-null   float64\n",
      " 2   High    1692 non-null   float64\n",
      " 3   Low     1692 non-null   float64\n",
      " 4   Close   1692 non-null   float64\n",
      " 5   Volume  1692 non-null   int64  \n",
      "dtypes: float64(4), int64(1), object(1)\n",
      "memory usage: 79.4+ KB\n"
     ]
    }
   ],
   "source": [
    "df.info()"
   ]
  },
  {
   "cell_type": "code",
   "execution_count": 9,
   "id": "6147ccf5",
   "metadata": {},
   "outputs": [
    {
     "data": {
      "text/html": [
       "<div>\n",
       "<style scoped>\n",
       "    .dataframe tbody tr th:only-of-type {\n",
       "        vertical-align: middle;\n",
       "    }\n",
       "\n",
       "    .dataframe tbody tr th {\n",
       "        vertical-align: top;\n",
       "    }\n",
       "\n",
       "    .dataframe thead th {\n",
       "        text-align: right;\n",
       "    }\n",
       "</style>\n",
       "<table border=\"1\" class=\"dataframe\">\n",
       "  <thead>\n",
       "    <tr style=\"text-align: right;\">\n",
       "      <th></th>\n",
       "      <th>Open</th>\n",
       "      <th>High</th>\n",
       "      <th>Low</th>\n",
       "      <th>Close</th>\n",
       "      <th>Volume</th>\n",
       "    </tr>\n",
       "  </thead>\n",
       "  <tbody>\n",
       "    <tr>\n",
       "      <th>count</th>\n",
       "      <td>1692.000000</td>\n",
       "      <td>1692.000000</td>\n",
       "      <td>1692.000000</td>\n",
       "      <td>1692.000000</td>\n",
       "      <td>1.692000e+03</td>\n",
       "    </tr>\n",
       "    <tr>\n",
       "      <th>mean</th>\n",
       "      <td>132.441572</td>\n",
       "      <td>134.769698</td>\n",
       "      <td>129.996223</td>\n",
       "      <td>132.428658</td>\n",
       "      <td>4.270741e+06</td>\n",
       "    </tr>\n",
       "    <tr>\n",
       "      <th>std</th>\n",
       "      <td>94.309923</td>\n",
       "      <td>95.694914</td>\n",
       "      <td>92.855227</td>\n",
       "      <td>94.313187</td>\n",
       "      <td>4.295971e+06</td>\n",
       "    </tr>\n",
       "    <tr>\n",
       "      <th>min</th>\n",
       "      <td>16.139999</td>\n",
       "      <td>16.629999</td>\n",
       "      <td>14.980000</td>\n",
       "      <td>15.800000</td>\n",
       "      <td>1.185000e+05</td>\n",
       "    </tr>\n",
       "    <tr>\n",
       "      <th>25%</th>\n",
       "      <td>30.000000</td>\n",
       "      <td>30.650000</td>\n",
       "      <td>29.215000</td>\n",
       "      <td>29.884999</td>\n",
       "      <td>1.194350e+06</td>\n",
       "    </tr>\n",
       "    <tr>\n",
       "      <th>50%</th>\n",
       "      <td>156.334999</td>\n",
       "      <td>162.370002</td>\n",
       "      <td>153.150002</td>\n",
       "      <td>158.160004</td>\n",
       "      <td>3.180700e+06</td>\n",
       "    </tr>\n",
       "    <tr>\n",
       "      <th>75%</th>\n",
       "      <td>220.557495</td>\n",
       "      <td>224.099999</td>\n",
       "      <td>217.119999</td>\n",
       "      <td>220.022503</td>\n",
       "      <td>5.662100e+06</td>\n",
       "    </tr>\n",
       "    <tr>\n",
       "      <th>max</th>\n",
       "      <td>287.670013</td>\n",
       "      <td>291.420013</td>\n",
       "      <td>280.399994</td>\n",
       "      <td>286.040009</td>\n",
       "      <td>3.716390e+07</td>\n",
       "    </tr>\n",
       "  </tbody>\n",
       "</table>\n",
       "</div>"
      ],
      "text/plain": [
       "              Open         High          Low        Close        Volume\n",
       "count  1692.000000  1692.000000  1692.000000  1692.000000  1.692000e+03\n",
       "mean    132.441572   134.769698   129.996223   132.428658  4.270741e+06\n",
       "std      94.309923    95.694914    92.855227    94.313187  4.295971e+06\n",
       "min      16.139999    16.629999    14.980000    15.800000  1.185000e+05\n",
       "25%      30.000000    30.650000    29.215000    29.884999  1.194350e+06\n",
       "50%     156.334999   162.370002   153.150002   158.160004  3.180700e+06\n",
       "75%     220.557495   224.099999   217.119999   220.022503  5.662100e+06\n",
       "max     287.670013   291.420013   280.399994   286.040009  3.716390e+07"
      ]
     },
     "execution_count": 9,
     "metadata": {},
     "output_type": "execute_result"
    }
   ],
   "source": [
    "df.describe()"
   ]
  },
  {
   "cell_type": "code",
   "execution_count": 10,
   "id": "762bba73",
   "metadata": {},
   "outputs": [
    {
     "data": {
      "text/plain": [
       "<AxesSubplot:>"
      ]
     },
     "execution_count": 10,
     "metadata": {},
     "output_type": "execute_result"
    },
    {
     "data": {
      "image/png": "[encoded data removed]",
      "text/plain": [
       "<Figure size 1152x432 with 1 Axes>"
      ]
     },
     "metadata": {
      "needs_background": "light"
     },
     "output_type": "display_data"
    }
   ],
   "source": [
    "df['Open'].plot(figsize=(16,6))"
   ]
  },
  {
   "cell_type": "code",
   "execution_count": 11,
   "id": "c27e3a6d",
   "metadata": {},
   "outputs": [],
   "source": [
    "X = df[['Open','High','Low','Volume']]\n",
    "y = df['Close']"
   ]
  },
  {
   "cell_type": "code",
   "execution_count": 12,
   "id": "885d0abd",
   "metadata": {},
   "outputs": [],
   "source": [
    "from sklearn.model_selection import train_test_split\n",
    "X_train, X_test, y_train, y_test = train_test_split(X,y,random_state=0)"
   ]
  },
  {
   "cell_type": "code",
   "execution_count": 13,
   "id": "5221b7a1",
   "metadata": {},
   "outputs": [
    {
     "data": {
      "text/plain": [
       "(1269, 4)"
      ]
     },
     "execution_count": 13,
     "metadata": {},
     "output_type": "execute_result"
    }
   ],
   "source": [
    "X_train.shape"
   ]
  },
  {
   "cell_type": "code",
   "execution_count": 14,
   "id": "ee4ca2a6",
   "metadata": {},
   "outputs": [
    {
     "data": {
      "text/plain": [
       "(423, 4)"
      ]
     },
     "execution_count": 14,
     "metadata": {},
     "output_type": "execute_result"
    }
   ],
   "source": [
    "X_test.shape"
   ]
  },
  {
   "cell_type": "code",
   "execution_count": 15,
   "id": "2abe81d0",
   "metadata": {},
   "outputs": [],
   "source": [
    "from sklearn.linear_model import LinearRegression\n",
    "model = LinearRegression()"
   ]
  },
  {
   "cell_type": "code",
   "execution_count": 16,
   "id": "9d08c1df",
   "metadata": {},
   "outputs": [
    {
     "data": {
      "text/plain": [
       "LinearRegression()"
      ]
     },
     "execution_count": 16,
     "metadata": {},
     "output_type": "execute_result"
    }
   ],
   "source": [
    "model.fit(X_train,y_train)"
   ]
  },
  {
   "cell_type": "code",
   "execution_count": 17,
   "id": "f8ecb9ef",
   "metadata": {},
   "outputs": [
    {
     "data": {
      "text/plain": [
       "0.03439958011330191"
      ]
     },
     "execution_count": 17,
     "metadata": {},
     "output_type": "execute_result"
    }
   ],
   "source": [
    "model.intercept_"
   ]
  },
  {
   "cell_type": "code",
   "execution_count": 18,
   "id": "b3027c44",
   "metadata": {},
   "outputs": [
    {
     "data": {
      "text/plain": [
       "array([ 31.25357388, 255.654999  , 202.53238354,  16.68989363,\n",
       "       265.42928013,  34.06133962,  28.00010227,  34.93307051,\n",
       "        28.22904253, 243.62075478, 203.93297398, 140.71359012,\n",
       "       200.6293055 , 185.1064507 , 220.68965027, 267.09075276,\n",
       "        45.08916367,  35.9598045 , 220.30706633, 221.87946873,\n",
       "        22.88775466, 119.55607168, 205.28565468,  26.88940097,\n",
       "        34.76771998, 193.16075835,  33.21114752,  19.20423215,\n",
       "       227.17996184, 219.21889721, 201.25779081, 177.96058666,\n",
       "       177.08879439,  24.6447809 , 237.45117492,  29.10773585,\n",
       "        28.02008386,  33.12628952,  32.55665566,  33.79729393,\n",
       "        20.78717641,  98.81572601, 216.69610021,  31.56811584,\n",
       "        24.04301139,  25.40905446,  28.7300207 ,  30.69660973,\n",
       "       190.20464301, 157.36969464,  33.2211424 , 282.1000907 ,\n",
       "        29.6591842 , 202.11464514,  28.50145567, 121.31505779,\n",
       "       217.02682616, 236.47705373, 197.21689402,  21.41304625,\n",
       "       182.25745982,  33.29531692, 155.48079594,  20.49895791,\n",
       "       250.96391578,  20.44418002, 205.38526039, 249.35922716,\n",
       "       254.98066366,  35.36638766, 216.27086772, 264.74860932,\n",
       "        20.61547744, 122.95529508, 253.02240498, 230.13531907,\n",
       "        26.25516904,  29.1200505 , 245.69360696,  22.69567012,\n",
       "        31.0087553 , 219.54757779, 168.74652119,  29.63855081,\n",
       "        30.18822239,  31.5309082 , 226.21667589, 249.49905122,\n",
       "        35.25253103, 216.76815861,  45.12442052,  29.42761268,\n",
       "        37.65911126, 231.5162154 , 264.16029679, 119.94568614,\n",
       "       206.16592747, 200.74601435, 225.36640656, 145.55928803,\n",
       "       164.74312171, 202.33016809, 232.4989367 ,  23.21201916,\n",
       "        35.14693604, 282.00772762, 267.72960882,  19.41616258,\n",
       "       213.86278351, 177.00013457,  87.1201973 , 194.95624013,\n",
       "       253.50091068,  28.56108465,  35.08149994,  26.046626  ,\n",
       "        29.4517809 ,  28.44113789, 265.77907412,  28.02794539,\n",
       "        32.64946055,  28.51449038,  28.65391117,  52.24782813,\n",
       "       201.21651963,  15.39637928,  21.27585754, 205.73634809,\n",
       "       187.94523391,  33.73494857,  31.83418151,  34.02649267,\n",
       "       238.84889684,  28.92061824, 215.95333296,  24.53710977,\n",
       "       184.02044223,  33.37684455, 218.23895764, 228.940453  ,\n",
       "       265.63653001, 183.32652332,  39.15640354, 263.69979794,\n",
       "       102.59033823,  20.66184035, 264.4124516 , 227.68738066,\n",
       "        21.68605322, 194.26153999, 244.57535363, 212.22656923,\n",
       "       208.96988084, 233.88346504,  18.01505848, 142.6069175 ,\n",
       "       202.56922991, 213.05584151,  31.78386206,  95.28557784,\n",
       "        31.46211445, 210.58321969,  20.84125674, 200.63424317,\n",
       "       240.39473667, 246.68933358, 260.14340714,  38.90895911,\n",
       "        27.57880911,  20.47014636,  21.18301265, 232.46806595,\n",
       "        24.57519219,  96.20941592,  32.46729744,  24.22980235,\n",
       "       203.7708561 ,  33.19105276, 172.5989062 , 254.96100617,\n",
       "        21.40800536,  37.33216011, 221.63712946,  20.62745048,\n",
       "       220.90680489, 189.47601151, 206.63099542,  28.52776383,\n",
       "        39.31114467, 175.61874597, 276.91196834, 220.47554542,\n",
       "        23.1399813 ,  25.42553185,  23.60772438,  27.65950745,\n",
       "       250.57874075, 135.64400699, 248.66980843, 245.34030523,\n",
       "       237.19420453, 183.43809555, 188.87172771, 227.46954742,\n",
       "        82.82657692, 204.93145746, 248.12840855, 204.6374737 ,\n",
       "       251.96795451,  27.7114324 ,  36.69838414, 118.57867264,\n",
       "        28.1207825 ,  37.17262434, 244.01894249, 213.38780114,\n",
       "        28.04912109, 154.22148744, 166.61967516, 235.09389479,\n",
       "       217.02027745, 214.83457882, 200.73568092,  28.86856205,\n",
       "        24.27576749,  39.66388985, 211.56996023,  29.83329864,\n",
       "       228.05504573, 230.01673207, 258.08339173, 219.6781372 ,\n",
       "       203.43227144,  16.771326  ,  24.82016386, 167.86250832,\n",
       "        23.40276805,  31.18956565,  31.74580666,  27.85028599,\n",
       "       188.67715726, 236.11443012,  34.9904734 , 232.56983426,\n",
       "       279.10746733,  34.77290479,  31.65659669,  31.21335682,\n",
       "       188.71111319, 203.58554952, 237.66462821,  27.33485995,\n",
       "       243.42968562, 242.30146166,  22.93643391,  33.57643361,\n",
       "        17.58950182,  56.00856206, 211.87631665, 270.0757575 ,\n",
       "        30.88555933, 198.29216794, 220.01826507, 211.84953377,\n",
       "        38.35001541,  33.40319491,  34.15872913, 202.07571697,\n",
       "       211.5120746 , 239.86384007,  22.20945713, 247.01122786,\n",
       "        33.39443696, 219.09805534, 256.51298099,  23.94418056,\n",
       "       233.9922818 ,  37.24167151, 210.88814884, 272.59174014,\n",
       "       194.23061546, 262.98072951, 149.42067892, 195.86240972,\n",
       "        35.21803238, 248.46455378, 103.2625577 , 199.2762893 ,\n",
       "       254.3455008 , 196.67716987,  24.43318318, 221.65272841,\n",
       "        28.79224673,  26.88281151,  28.35261915,  27.30981119,\n",
       "       228.40905048, 240.78028603,  31.25294545,  29.18286662,\n",
       "        27.73797238, 221.85406802,  27.35158664,  28.21073325,\n",
       "        28.40859695,  26.92196768, 249.28735302, 216.60921241,\n",
       "        32.81646661,  89.92515835,  25.86353251, 235.67232762,\n",
       "        27.82527366, 199.48864882, 205.08220395,  86.01192756,\n",
       "       223.44503028,  24.10629849,  27.74921428,  25.90909441,\n",
       "       247.70178286, 173.35053843,  29.22573744,  31.43347396,\n",
       "       267.53212553,  24.19749284,  23.11523591, 212.75472389,\n",
       "       128.12663427, 203.6882029 , 105.59218807,  26.50215759,\n",
       "        29.03564244,  24.14026646, 184.55488785, 237.79292807,\n",
       "       167.34430839,  29.35043205, 236.60494864, 198.0118626 ,\n",
       "        19.93220197, 269.81981457,  20.49808183, 123.46581751,\n",
       "       100.79372483,  19.93776002, 126.16184466, 259.70051381,\n",
       "        23.73251556,  29.54678682,  34.39293903,  34.12840891,\n",
       "        33.51483848, 209.90263055,  38.28486845,  33.60521796,\n",
       "       192.61900377,  19.72873005, 219.17214651, 249.33255435,\n",
       "        22.77009114, 150.20680322,  28.47048518, 240.32805727,\n",
       "        27.30489699,  32.30776961, 118.89609505, 197.39002253,\n",
       "       209.57037961, 166.38644255, 270.30554699,  22.07640421,\n",
       "       236.75139522, 214.35832441, 218.62104866, 166.17832099,\n",
       "       202.42442186,  36.56951875,  27.64437595,  27.7828414 ,\n",
       "        34.41947705, 221.02837165, 269.09101216,  29.25398718,\n",
       "        27.20576358, 166.32155839, 231.72886747,  30.09162695,\n",
       "       235.50935049,  29.91975427,  23.50583032,  34.51877836,\n",
       "       201.41250077,  34.00562446, 259.68288916, 193.40561345,\n",
       "       243.66766558,  27.34873908, 177.40886113, 191.37220086,\n",
       "       204.1417318 ,  28.63062956,  20.86945988,  39.24589882,\n",
       "       142.82100083, 217.23626043, 200.64814965, 154.60787617,\n",
       "       176.73554121, 200.28092538,  96.15081834, 252.78527363,\n",
       "       210.55632625,  29.09596352, 101.40873687, 242.34119144,\n",
       "       254.52111369,  20.4192964 , 233.68581789,  26.62892832,\n",
       "        30.57611212, 201.2940513 , 223.7407765 ])"
      ]
     },
     "execution_count": 18,
     "metadata": {},
     "output_type": "execute_result"
    }
   ],
   "source": [
    "predicted = model.predict(X_test)\n",
    "predicted"
   ]
  },
  {
   "cell_type": "code",
   "execution_count": 19,
   "id": "5a838de6",
   "metadata": {},
   "outputs": [
    {
     "data": {
      "text/plain": [
       "(423,)"
      ]
     },
     "execution_count": 19,
     "metadata": {},
     "output_type": "execute_result"
    }
   ],
   "source": [
    "predicted.shape"
   ]
  },
  {
   "cell_type": "code",
   "execution_count": 20,
   "id": "36fecbef",
   "metadata": {},
   "outputs": [
    {
     "data": {
      "text/html": [
       "<div>\n",
       "<style scoped>\n",
       "    .dataframe tbody tr th:only-of-type {\n",
       "        vertical-align: middle;\n",
       "    }\n",
       "\n",
       "    .dataframe tbody tr th {\n",
       "        vertical-align: top;\n",
       "    }\n",
       "\n",
       "    .dataframe thead th {\n",
       "        text-align: right;\n",
       "    }\n",
       "</style>\n",
       "<table border=\"1\" class=\"dataframe\">\n",
       "  <thead>\n",
       "    <tr style=\"text-align: right;\">\n",
       "      <th></th>\n",
       "      <th>Actual Price</th>\n",
       "      <th>Predicted</th>\n",
       "    </tr>\n",
       "  </thead>\n",
       "  <tbody>\n",
       "    <tr>\n",
       "      <th>124</th>\n",
       "      <td>30.090000</td>\n",
       "      <td>31.253574</td>\n",
       "    </tr>\n",
       "    <tr>\n",
       "      <th>1688</th>\n",
       "      <td>258.000000</td>\n",
       "      <td>255.654999</td>\n",
       "    </tr>\n",
       "    <tr>\n",
       "      <th>1397</th>\n",
       "      <td>204.990005</td>\n",
       "      <td>202.532384</td>\n",
       "    </tr>\n",
       "    <tr>\n",
       "      <th>6</th>\n",
       "      <td>17.459999</td>\n",
       "      <td>16.689894</td>\n",
       "    </tr>\n",
       "    <tr>\n",
       "      <th>1279</th>\n",
       "      <td>263.820007</td>\n",
       "      <td>265.429280</td>\n",
       "    </tr>\n",
       "    <tr>\n",
       "      <th>...</th>\n",
       "      <td>...</td>\n",
       "      <td>...</td>\n",
       "    </tr>\n",
       "    <tr>\n",
       "      <th>1222</th>\n",
       "      <td>236.800003</td>\n",
       "      <td>233.685818</td>\n",
       "    </tr>\n",
       "    <tr>\n",
       "      <th>215</th>\n",
       "      <td>26.440001</td>\n",
       "      <td>26.628928</td>\n",
       "    </tr>\n",
       "    <tr>\n",
       "      <th>536</th>\n",
       "      <td>31.170000</td>\n",
       "      <td>30.576112</td>\n",
       "    </tr>\n",
       "    <tr>\n",
       "      <th>1630</th>\n",
       "      <td>202.490005</td>\n",
       "      <td>201.294051</td>\n",
       "    </tr>\n",
       "    <tr>\n",
       "      <th>1548</th>\n",
       "      <td>222.929993</td>\n",
       "      <td>223.740777</td>\n",
       "    </tr>\n",
       "  </tbody>\n",
       "</table>\n",
       "<p>423 rows × 2 columns</p>\n",
       "</div>"
      ],
      "text/plain": [
       "      Actual Price   Predicted\n",
       "124      30.090000   31.253574\n",
       "1688    258.000000  255.654999\n",
       "1397    204.990005  202.532384\n",
       "6        17.459999   16.689894\n",
       "1279    263.820007  265.429280\n",
       "...            ...         ...\n",
       "1222    236.800003  233.685818\n",
       "215      26.440001   26.628928\n",
       "536      31.170000   30.576112\n",
       "1630    202.490005  201.294051\n",
       "1548    222.929993  223.740777\n",
       "\n",
       "[423 rows x 2 columns]"
      ]
     },
     "execution_count": 20,
     "metadata": {},
     "output_type": "execute_result"
    }
   ],
   "source": [
    "dframe = pd.DataFrame(y_test,predicted)\n",
    "dframe = pd.DataFrame({'Actual Price':y_test, 'Predicted': predicted})\n",
    "dframe"
   ]
  },
  {
   "cell_type": "code",
   "execution_count": 21,
   "id": "d4eafb7a",
   "metadata": {},
   "outputs": [
    {
     "data": {
      "text/plain": [
       "0.999703484441961"
      ]
     },
     "execution_count": 21,
     "metadata": {},
     "output_type": "execute_result"
    }
   ],
   "source": [
    "model.score(X_test,y_test)"
   ]
  },
  {
   "cell_type": "code",
   "execution_count": 22,
   "id": "2013ffa7",
   "metadata": {},
   "outputs": [
    {
     "data": {
      "text/plain": [
       "[<matplotlib.lines.Line2D at 0x1ec3f8e9270>]"
      ]
     },
     "execution_count": 22,
     "metadata": {},
     "output_type": "execute_result"
    },
    {
     "data": {
      "image/png": "[encoded data removed]",
      "text/plain": [
       "<Figure size 1080x360 with 1 Axes>"
      ]
     },
     "metadata": {
      "needs_background": "light"
     },
     "output_type": "display_data"
    }
   ],
   "source": [
    "plt.figure(figsize=(15,5))\n",
    "plt.plot(df['Close'])\n",
    "a = [223.740777,31.253574]\n",
    "b = [1548,124]\n",
    "plt.plot(b,a)"
   ]
  },
  {
   "cell_type": "code",
   "execution_count": 23,
   "id": "85d73897",
   "metadata": {},
   "outputs": [
    {
     "data": {
      "text/plain": [
       "[<matplotlib.lines.Line2D at 0x1ec3f959750>]"
      ]
     },
     "execution_count": 23,
     "metadata": {},
     "output_type": "execute_result"
    },
    {
     "data": {
      "image/png": "[encoded data removed]",
      "text/plain": [
       "<Figure size 1080x360 with 1 Axes>"
      ]
     },
     "metadata": {
      "needs_background": "light"
     },
     "output_type": "display_data"
    }
   ],
   "source": [
    " plt.figure(figsize=(15,5))\n",
    "# plt.plot(df['Close'])\n",
    "x=dframe.sort_index(axis = 0)\n",
    "x.head()\n",
    "j=x.index\n",
    "k=x['Predicted']\n",
    "l=x['Actual Price']\n",
    "plt.scatter(j,k)\n",
    "plt.plot(j,l)"
   ]
  },
  {
   "cell_type": "code",
   "execution_count": 24,
   "id": "c51bc7ae",
   "metadata": {},
   "outputs": [
    {
     "data": {
      "text/html": [
       "<div>\n",
       "<style scoped>\n",
       "    .dataframe tbody tr th:only-of-type {\n",
       "        vertical-align: middle;\n",
       "    }\n",
       "\n",
       "    .dataframe tbody tr th {\n",
       "        vertical-align: top;\n",
       "    }\n",
       "\n",
       "    .dataframe thead th {\n",
       "        text-align: right;\n",
       "    }\n",
       "</style>\n",
       "<table border=\"1\" class=\"dataframe\">\n",
       "  <thead>\n",
       "    <tr style=\"text-align: right;\">\n",
       "      <th></th>\n",
       "      <th>Actual Price</th>\n",
       "      <th>Predicted</th>\n",
       "    </tr>\n",
       "  </thead>\n",
       "  <tbody>\n",
       "    <tr>\n",
       "      <th>1</th>\n",
       "      <td>23.830000</td>\n",
       "      <td>27.348739</td>\n",
       "    </tr>\n",
       "    <tr>\n",
       "      <th>2</th>\n",
       "      <td>21.959999</td>\n",
       "      <td>22.076404</td>\n",
       "    </tr>\n",
       "    <tr>\n",
       "      <th>4</th>\n",
       "      <td>16.110001</td>\n",
       "      <td>16.771326</td>\n",
       "    </tr>\n",
       "    <tr>\n",
       "      <th>5</th>\n",
       "      <td>15.800000</td>\n",
       "      <td>15.396379</td>\n",
       "    </tr>\n",
       "    <tr>\n",
       "      <th>6</th>\n",
       "      <td>17.459999</td>\n",
       "      <td>16.689894</td>\n",
       "    </tr>\n",
       "  </tbody>\n",
       "</table>\n",
       "</div>"
      ],
      "text/plain": [
       "   Actual Price  Predicted\n",
       "1     23.830000  27.348739\n",
       "2     21.959999  22.076404\n",
       "4     16.110001  16.771326\n",
       "5     15.800000  15.396379\n",
       "6     17.459999  16.689894"
      ]
     },
     "execution_count": 24,
     "metadata": {},
     "output_type": "execute_result"
    }
   ],
   "source": [
    "# x=dframe.index\n",
    "# x\n",
    "#dframe.sort_values(by=dframe.index)\n",
    "x=dframe.sort_index(axis = 0)\n",
    "x.head()"
   ]
  },
  {
   "cell_type": "code",
   "execution_count": 36,
   "id": "3a9f78c1",
   "metadata": {},
   "outputs": [
    {
     "ename": "InvalidIndexError",
     "evalue": "(slice(None, None, None), None)",
     "output_type": "error",
     "traceback": [
      "\u001b[1;31m---------------------------------------------------------------------------\u001b[0m",
      "\u001b[1;31mTypeError\u001b[0m                                 Traceback (most recent call last)",
      "File \u001b[1;32m~\\AppData\\Local\\Programs\\Python\\Python310\\lib\\site-packages\\pandas\\core\\indexes\\base.py:3621\u001b[0m, in \u001b[0;36mIndex.get_loc\u001b[1;34m(self, key, method, tolerance)\u001b[0m\n\u001b[0;32m   3620\u001b[0m \u001b[38;5;28;01mtry\u001b[39;00m:\n\u001b[1;32m-> 3621\u001b[0m     \u001b[38;5;28;01mreturn\u001b[39;00m \u001b[38;5;28;43mself\u001b[39;49m\u001b[38;5;241;43m.\u001b[39;49m\u001b[43m_engine\u001b[49m\u001b[38;5;241;43m.\u001b[39;49m\u001b[43mget_loc\u001b[49m\u001b[43m(\u001b[49m\u001b[43mcasted_key\u001b[49m\u001b[43m)\u001b[49m\n\u001b[0;32m   3622\u001b[0m \u001b[38;5;28;01mexcept\u001b[39;00m \u001b[38;5;167;01mKeyError\u001b[39;00m \u001b[38;5;28;01mas\u001b[39;00m err:\n",
      "File \u001b[1;32m~\\AppData\\Local\\Programs\\Python\\Python310\\lib\\site-packages\\pandas\\_libs\\index.pyx:136\u001b[0m, in \u001b[0;36mpandas._libs.index.IndexEngine.get_loc\u001b[1;34m()\u001b[0m\n",
      "File \u001b[1;32m~\\AppData\\Local\\Programs\\Python\\Python310\\lib\\site-packages\\pandas\\_libs\\index.pyx:142\u001b[0m, in \u001b[0;36mpandas._libs.index.IndexEngine.get_loc\u001b[1;34m()\u001b[0m\n",
      "\u001b[1;31mTypeError\u001b[0m: '(slice(None, None, None), None)' is an invalid key",
      "\nDuring handling of the above exception, another exception occurred:\n",
      "\u001b[1;31mInvalidIndexError\u001b[0m                         Traceback (most recent call last)",
      "Input \u001b[1;32mIn [36]\u001b[0m, in \u001b[0;36m<cell line: 6>\u001b[1;34m()\u001b[0m\n\u001b[0;32m      4\u001b[0m plt\u001b[38;5;241m.\u001b[39mfigure(figsize \u001b[38;5;241m=\u001b[39m (\u001b[38;5;241m15\u001b[39m, \u001b[38;5;241m5\u001b[39m))\n\u001b[0;32m      5\u001b[0m plt\u001b[38;5;241m.\u001b[39mplot(j,l)\n\u001b[1;32m----> 6\u001b[0m \u001b[43mplt\u001b[49m\u001b[38;5;241;43m.\u001b[39;49m\u001b[43mplot\u001b[49m\u001b[43m(\u001b[49m\u001b[43mj\u001b[49m\u001b[43m,\u001b[49m\u001b[43mm\u001b[49m\u001b[38;5;241;43m*\u001b[39;49m\u001b[43mx\u001b[49m\u001b[38;5;241;43m+\u001b[39;49m\u001b[43mc\u001b[49m\u001b[43m)\u001b[49m\n",
      "File \u001b[1;32m~\\AppData\\Local\\Programs\\Python\\Python310\\lib\\site-packages\\matplotlib\\pyplot.py:2757\u001b[0m, in \u001b[0;36mplot\u001b[1;34m(scalex, scaley, data, *args, **kwargs)\u001b[0m\n\u001b[0;32m   2755\u001b[0m \u001b[38;5;129m@_copy_docstring_and_deprecators\u001b[39m(Axes\u001b[38;5;241m.\u001b[39mplot)\n\u001b[0;32m   2756\u001b[0m \u001b[38;5;28;01mdef\u001b[39;00m \u001b[38;5;21mplot\u001b[39m(\u001b[38;5;241m*\u001b[39margs, scalex\u001b[38;5;241m=\u001b[39m\u001b[38;5;28;01mTrue\u001b[39;00m, scaley\u001b[38;5;241m=\u001b[39m\u001b[38;5;28;01mTrue\u001b[39;00m, data\u001b[38;5;241m=\u001b[39m\u001b[38;5;28;01mNone\u001b[39;00m, \u001b[38;5;241m*\u001b[39m\u001b[38;5;241m*\u001b[39mkwargs):\n\u001b[1;32m-> 2757\u001b[0m     \u001b[38;5;28;01mreturn\u001b[39;00m gca()\u001b[38;5;241m.\u001b[39mplot(\n\u001b[0;32m   2758\u001b[0m         \u001b[38;5;241m*\u001b[39margs, scalex\u001b[38;5;241m=\u001b[39mscalex, scaley\u001b[38;5;241m=\u001b[39mscaley,\n\u001b[0;32m   2759\u001b[0m         \u001b[38;5;241m*\u001b[39m\u001b[38;5;241m*\u001b[39m({\u001b[38;5;124m\"\u001b[39m\u001b[38;5;124mdata\u001b[39m\u001b[38;5;124m\"\u001b[39m: data} \u001b[38;5;28;01mif\u001b[39;00m data \u001b[38;5;129;01mis\u001b[39;00m \u001b[38;5;129;01mnot\u001b[39;00m \u001b[38;5;28;01mNone\u001b[39;00m \u001b[38;5;28;01melse\u001b[39;00m {}), \u001b[38;5;241m*\u001b[39m\u001b[38;5;241m*\u001b[39mkwargs)\n",
      "File \u001b[1;32m~\\AppData\\Local\\Programs\\Python\\Python310\\lib\\site-packages\\matplotlib\\axes\\_axes.py:1632\u001b[0m, in \u001b[0;36mAxes.plot\u001b[1;34m(self, scalex, scaley, data, *args, **kwargs)\u001b[0m\n\u001b[0;32m   1390\u001b[0m \u001b[38;5;124;03m\"\"\"\u001b[39;00m\n\u001b[0;32m   1391\u001b[0m \u001b[38;5;124;03mPlot y versus x as lines and/or markers.\u001b[39;00m\n\u001b[0;32m   1392\u001b[0m \n\u001b[1;32m   (...)\u001b[0m\n\u001b[0;32m   1629\u001b[0m \u001b[38;5;124;03m(``'green'``) or hex strings (``'#008000'``).\u001b[39;00m\n\u001b[0;32m   1630\u001b[0m \u001b[38;5;124;03m\"\"\"\u001b[39;00m\n\u001b[0;32m   1631\u001b[0m kwargs \u001b[38;5;241m=\u001b[39m cbook\u001b[38;5;241m.\u001b[39mnormalize_kwargs(kwargs, mlines\u001b[38;5;241m.\u001b[39mLine2D)\n\u001b[1;32m-> 1632\u001b[0m lines \u001b[38;5;241m=\u001b[39m [\u001b[38;5;241m*\u001b[39m\u001b[38;5;28mself\u001b[39m\u001b[38;5;241m.\u001b[39m_get_lines(\u001b[38;5;241m*\u001b[39margs, data\u001b[38;5;241m=\u001b[39mdata, \u001b[38;5;241m*\u001b[39m\u001b[38;5;241m*\u001b[39mkwargs)]\n\u001b[0;32m   1633\u001b[0m \u001b[38;5;28;01mfor\u001b[39;00m line \u001b[38;5;129;01min\u001b[39;00m lines:\n\u001b[0;32m   1634\u001b[0m     \u001b[38;5;28mself\u001b[39m\u001b[38;5;241m.\u001b[39madd_line(line)\n",
      "File \u001b[1;32m~\\AppData\\Local\\Programs\\Python\\Python310\\lib\\site-packages\\matplotlib\\axes\\_base.py:312\u001b[0m, in \u001b[0;36m_process_plot_var_args.__call__\u001b[1;34m(self, data, *args, **kwargs)\u001b[0m\n\u001b[0;32m    310\u001b[0m     this \u001b[38;5;241m+\u001b[39m\u001b[38;5;241m=\u001b[39m args[\u001b[38;5;241m0\u001b[39m],\n\u001b[0;32m    311\u001b[0m     args \u001b[38;5;241m=\u001b[39m args[\u001b[38;5;241m1\u001b[39m:]\n\u001b[1;32m--> 312\u001b[0m \u001b[38;5;28;01myield from\u001b[39;00m \u001b[38;5;28;43mself\u001b[39;49m\u001b[38;5;241;43m.\u001b[39;49m\u001b[43m_plot_args\u001b[49m\u001b[43m(\u001b[49m\u001b[43mthis\u001b[49m\u001b[43m,\u001b[49m\u001b[43m \u001b[49m\u001b[43mkwargs\u001b[49m\u001b[43m)\u001b[49m\n",
      "File \u001b[1;32m~\\AppData\\Local\\Programs\\Python\\Python310\\lib\\site-packages\\matplotlib\\axes\\_base.py:488\u001b[0m, in \u001b[0;36m_process_plot_var_args._plot_args\u001b[1;34m(self, tup, kwargs, return_kwargs)\u001b[0m\n\u001b[0;32m    486\u001b[0m \u001b[38;5;28;01mif\u001b[39;00m \u001b[38;5;28mlen\u001b[39m(xy) \u001b[38;5;241m==\u001b[39m \u001b[38;5;241m2\u001b[39m:\n\u001b[0;32m    487\u001b[0m     x \u001b[38;5;241m=\u001b[39m _check_1d(xy[\u001b[38;5;241m0\u001b[39m])\n\u001b[1;32m--> 488\u001b[0m     y \u001b[38;5;241m=\u001b[39m \u001b[43m_check_1d\u001b[49m\u001b[43m(\u001b[49m\u001b[43mxy\u001b[49m\u001b[43m[\u001b[49m\u001b[38;5;241;43m1\u001b[39;49m\u001b[43m]\u001b[49m\u001b[43m)\u001b[49m\n\u001b[0;32m    489\u001b[0m \u001b[38;5;28;01melse\u001b[39;00m:\n\u001b[0;32m    490\u001b[0m     x, y \u001b[38;5;241m=\u001b[39m index_of(xy[\u001b[38;5;241m-\u001b[39m\u001b[38;5;241m1\u001b[39m])\n",
      "File \u001b[1;32m~\\AppData\\Local\\Programs\\Python\\Python310\\lib\\site-packages\\matplotlib\\cbook\\__init__.py:1327\u001b[0m, in \u001b[0;36m_check_1d\u001b[1;34m(x)\u001b[0m\n\u001b[0;32m   1321\u001b[0m \u001b[38;5;28;01mwith\u001b[39;00m warnings\u001b[38;5;241m.\u001b[39mcatch_warnings(record\u001b[38;5;241m=\u001b[39m\u001b[38;5;28;01mTrue\u001b[39;00m) \u001b[38;5;28;01mas\u001b[39;00m w:\n\u001b[0;32m   1322\u001b[0m     warnings\u001b[38;5;241m.\u001b[39mfilterwarnings(\n\u001b[0;32m   1323\u001b[0m         \u001b[38;5;124m\"\u001b[39m\u001b[38;5;124malways\u001b[39m\u001b[38;5;124m\"\u001b[39m,\n\u001b[0;32m   1324\u001b[0m         category\u001b[38;5;241m=\u001b[39m\u001b[38;5;167;01mWarning\u001b[39;00m,\n\u001b[0;32m   1325\u001b[0m         message\u001b[38;5;241m=\u001b[39m\u001b[38;5;124m'\u001b[39m\u001b[38;5;124mSupport for multi-dimensional indexing\u001b[39m\u001b[38;5;124m'\u001b[39m)\n\u001b[1;32m-> 1327\u001b[0m     ndim \u001b[38;5;241m=\u001b[39m \u001b[43mx\u001b[49m\u001b[43m[\u001b[49m\u001b[43m:\u001b[49m\u001b[43m,\u001b[49m\u001b[43m \u001b[49m\u001b[38;5;28;43;01mNone\u001b[39;49;00m\u001b[43m]\u001b[49m\u001b[38;5;241m.\u001b[39mndim\n\u001b[0;32m   1328\u001b[0m     \u001b[38;5;66;03m# we have definitely hit a pandas index or series object\u001b[39;00m\n\u001b[0;32m   1329\u001b[0m     \u001b[38;5;66;03m# cast to a numpy array.\u001b[39;00m\n\u001b[0;32m   1330\u001b[0m     \u001b[38;5;28;01mif\u001b[39;00m \u001b[38;5;28mlen\u001b[39m(w) \u001b[38;5;241m>\u001b[39m \u001b[38;5;241m0\u001b[39m:\n",
      "File \u001b[1;32m~\\AppData\\Local\\Programs\\Python\\Python310\\lib\\site-packages\\pandas\\core\\frame.py:3505\u001b[0m, in \u001b[0;36mDataFrame.__getitem__\u001b[1;34m(self, key)\u001b[0m\n\u001b[0;32m   3503\u001b[0m \u001b[38;5;28;01mif\u001b[39;00m \u001b[38;5;28mself\u001b[39m\u001b[38;5;241m.\u001b[39mcolumns\u001b[38;5;241m.\u001b[39mnlevels \u001b[38;5;241m>\u001b[39m \u001b[38;5;241m1\u001b[39m:\n\u001b[0;32m   3504\u001b[0m     \u001b[38;5;28;01mreturn\u001b[39;00m \u001b[38;5;28mself\u001b[39m\u001b[38;5;241m.\u001b[39m_getitem_multilevel(key)\n\u001b[1;32m-> 3505\u001b[0m indexer \u001b[38;5;241m=\u001b[39m \u001b[38;5;28;43mself\u001b[39;49m\u001b[38;5;241;43m.\u001b[39;49m\u001b[43mcolumns\u001b[49m\u001b[38;5;241;43m.\u001b[39;49m\u001b[43mget_loc\u001b[49m\u001b[43m(\u001b[49m\u001b[43mkey\u001b[49m\u001b[43m)\u001b[49m\n\u001b[0;32m   3506\u001b[0m \u001b[38;5;28;01mif\u001b[39;00m is_integer(indexer):\n\u001b[0;32m   3507\u001b[0m     indexer \u001b[38;5;241m=\u001b[39m [indexer]\n",
      "File \u001b[1;32m~\\AppData\\Local\\Programs\\Python\\Python310\\lib\\site-packages\\pandas\\core\\indexes\\base.py:3628\u001b[0m, in \u001b[0;36mIndex.get_loc\u001b[1;34m(self, key, method, tolerance)\u001b[0m\n\u001b[0;32m   3623\u001b[0m         \u001b[38;5;28;01mraise\u001b[39;00m \u001b[38;5;167;01mKeyError\u001b[39;00m(key) \u001b[38;5;28;01mfrom\u001b[39;00m \u001b[38;5;21;01merr\u001b[39;00m\n\u001b[0;32m   3624\u001b[0m     \u001b[38;5;28;01mexcept\u001b[39;00m \u001b[38;5;167;01mTypeError\u001b[39;00m:\n\u001b[0;32m   3625\u001b[0m         \u001b[38;5;66;03m# If we have a listlike key, _check_indexing_error will raise\u001b[39;00m\n\u001b[0;32m   3626\u001b[0m         \u001b[38;5;66;03m#  InvalidIndexError. Otherwise we fall through and re-raise\u001b[39;00m\n\u001b[0;32m   3627\u001b[0m         \u001b[38;5;66;03m#  the TypeError.\u001b[39;00m\n\u001b[1;32m-> 3628\u001b[0m         \u001b[38;5;28;43mself\u001b[39;49m\u001b[38;5;241;43m.\u001b[39;49m\u001b[43m_check_indexing_error\u001b[49m\u001b[43m(\u001b[49m\u001b[43mkey\u001b[49m\u001b[43m)\u001b[49m\n\u001b[0;32m   3629\u001b[0m         \u001b[38;5;28;01mraise\u001b[39;00m\n\u001b[0;32m   3631\u001b[0m \u001b[38;5;66;03m# GH#42269\u001b[39;00m\n",
      "File \u001b[1;32m~\\AppData\\Local\\Programs\\Python\\Python310\\lib\\site-packages\\pandas\\core\\indexes\\base.py:5637\u001b[0m, in \u001b[0;36mIndex._check_indexing_error\u001b[1;34m(self, key)\u001b[0m\n\u001b[0;32m   5633\u001b[0m \u001b[38;5;28;01mdef\u001b[39;00m \u001b[38;5;21m_check_indexing_error\u001b[39m(\u001b[38;5;28mself\u001b[39m, key):\n\u001b[0;32m   5634\u001b[0m     \u001b[38;5;28;01mif\u001b[39;00m \u001b[38;5;129;01mnot\u001b[39;00m is_scalar(key):\n\u001b[0;32m   5635\u001b[0m         \u001b[38;5;66;03m# if key is not a scalar, directly raise an error (the code below\u001b[39;00m\n\u001b[0;32m   5636\u001b[0m         \u001b[38;5;66;03m# would convert to numpy arrays and raise later any way) - GH29926\u001b[39;00m\n\u001b[1;32m-> 5637\u001b[0m         \u001b[38;5;28;01mraise\u001b[39;00m InvalidIndexError(key)\n",
      "\u001b[1;31mInvalidIndexError\u001b[0m: (slice(None, None, None), None)"
     ]
    },
    {
     "data": {
      "image/png": "[encoded data removed]",
      "text/plain": [
       "<Figure size 1080x360 with 1 Axes>"
      ]
     },
     "metadata": {
      "needs_background": "light"
     },
     "output_type": "display_data"
    }
   ],
   "source": [
    "c=128.95259089274157\n",
    "#m=model.coef_\n",
    "m=0.007085073015613786\n",
    "plt.figure(figsize = (15, 5))\n",
    "plt.plot(j,l)\n",
    "plt.plot(j,m*x+c)"
   ]
  },
  {
   "cell_type": "code",
   "execution_count": 32,
   "id": "0d35002c",
   "metadata": {},
   "outputs": [
    {
     "data": {
      "text/plain": [
       "LinregressResult(slope=0.007085073015613786, intercept=128.95259089274157, rvalue=0.007082473267881916, pvalue=0.884524737260119, stderr=0.04875368484854428, intercept_stderr=7.83453271447624)"
      ]
     },
     "execution_count": 32,
     "metadata": {},
     "output_type": "execute_result"
    }
   ],
   "source": [
    "from scipy.stats import linregress\n",
    "linregress(k,y_test)"
   ]
  },
  {
   "cell_type": "code",
   "execution_count": 31,
   "id": "8e75acbc",
   "metadata": {},
   "outputs": [
    {
     "data": {
      "text/html": [
       "<div>\n",
       "<style scoped>\n",
       "    .dataframe tbody tr th:only-of-type {\n",
       "        vertical-align: middle;\n",
       "    }\n",
       "\n",
       "    .dataframe tbody tr th {\n",
       "        vertical-align: top;\n",
       "    }\n",
       "\n",
       "    .dataframe thead th {\n",
       "        text-align: right;\n",
       "    }\n",
       "</style>\n",
       "<table border=\"1\" class=\"dataframe\">\n",
       "  <thead>\n",
       "    <tr style=\"text-align: right;\">\n",
       "      <th></th>\n",
       "      <th>Open</th>\n",
       "      <th>High</th>\n",
       "      <th>Low</th>\n",
       "      <th>Volume</th>\n",
       "    </tr>\n",
       "  </thead>\n",
       "  <tbody>\n",
       "    <tr>\n",
       "      <th>124</th>\n",
       "      <td>31.260000</td>\n",
       "      <td>32.480000</td>\n",
       "      <td>29.920000</td>\n",
       "      <td>1552600</td>\n",
       "    </tr>\n",
       "    <tr>\n",
       "      <th>1688</th>\n",
       "      <td>246.110001</td>\n",
       "      <td>258.119995</td>\n",
       "      <td>246.020004</td>\n",
       "      <td>7575500</td>\n",
       "    </tr>\n",
       "    <tr>\n",
       "      <th>1397</th>\n",
       "      <td>198.970001</td>\n",
       "      <td>205.070007</td>\n",
       "      <td>197.250000</td>\n",
       "      <td>5322200</td>\n",
       "    </tr>\n",
       "    <tr>\n",
       "      <th>6</th>\n",
       "      <td>16.139999</td>\n",
       "      <td>17.520000</td>\n",
       "      <td>15.570000</td>\n",
       "      <td>7711400</td>\n",
       "    </tr>\n",
       "    <tr>\n",
       "      <th>1279</th>\n",
       "      <td>264.269989</td>\n",
       "      <td>267.890015</td>\n",
       "      <td>262.000000</td>\n",
       "      <td>2790100</td>\n",
       "    </tr>\n",
       "    <tr>\n",
       "      <th>...</th>\n",
       "      <td>...</td>\n",
       "      <td>...</td>\n",
       "      <td>...</td>\n",
       "      <td>...</td>\n",
       "    </tr>\n",
       "    <tr>\n",
       "      <th>1222</th>\n",
       "      <td>221.000000</td>\n",
       "      <td>237.479996</td>\n",
       "      <td>220.250000</td>\n",
       "      <td>9455900</td>\n",
       "    </tr>\n",
       "    <tr>\n",
       "      <th>215</th>\n",
       "      <td>27.200001</td>\n",
       "      <td>27.440001</td>\n",
       "      <td>26.170000</td>\n",
       "      <td>1218500</td>\n",
       "    </tr>\n",
       "    <tr>\n",
       "      <th>536</th>\n",
       "      <td>29.690001</td>\n",
       "      <td>31.299999</td>\n",
       "      <td>29.100000</td>\n",
       "      <td>870100</td>\n",
       "    </tr>\n",
       "    <tr>\n",
       "      <th>1630</th>\n",
       "      <td>198.080002</td>\n",
       "      <td>202.589996</td>\n",
       "      <td>197.600006</td>\n",
       "      <td>3796900</td>\n",
       "    </tr>\n",
       "    <tr>\n",
       "      <th>1548</th>\n",
       "      <td>224.169998</td>\n",
       "      <td>225.110001</td>\n",
       "      <td>222.679993</td>\n",
       "      <td>2065500</td>\n",
       "    </tr>\n",
       "  </tbody>\n",
       "</table>\n",
       "<p>423 rows × 4 columns</p>\n",
       "</div>"
      ],
      "text/plain": [
       "            Open        High         Low   Volume\n",
       "124    31.260000   32.480000   29.920000  1552600\n",
       "1688  246.110001  258.119995  246.020004  7575500\n",
       "1397  198.970001  205.070007  197.250000  5322200\n",
       "6      16.139999   17.520000   15.570000  7711400\n",
       "1279  264.269989  267.890015  262.000000  2790100\n",
       "...          ...         ...         ...      ...\n",
       "1222  221.000000  237.479996  220.250000  9455900\n",
       "215    27.200001   27.440001   26.170000  1218500\n",
       "536    29.690001   31.299999   29.100000   870100\n",
       "1630  198.080002  202.589996  197.600006  3796900\n",
       "1548  224.169998  225.110001  222.679993  2065500\n",
       "\n",
       "[423 rows x 4 columns]"
      ]
     },
     "execution_count": 31,
     "metadata": {},
     "output_type": "execute_result"
    }
   ],
   "source": [
    "X_test"
   ]
  },
  {
   "cell_type": "code",
   "execution_count": null,
   "id": "a52a4d7b",
   "metadata": {},
   "outputs": [],
   "source": []
  }
 ],
 "metadata": {
  "kernelspec": {
   "display_name": "Python 3 (ipykernel)",
   "language": "python",
   "name": "python3"
  },
  "language_info": {
   "codemirror_mode": {
    "name": "ipython",
    "version": 3
   },
   "file_extension": ".py",
   "mimetype": "text/x-python",
   "name": "python",
   "nbconvert_exporter": "python",
   "pygments_lexer": "ipython3",
   "version": "3.10.4"
  }
 },
 "nbformat": 4,
 "nbformat_minor": 5
}
